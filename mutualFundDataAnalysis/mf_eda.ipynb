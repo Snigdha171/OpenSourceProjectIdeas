{
 "cells": [
  {
   "cell_type": "markdown",
   "metadata": {
    "collapsed": true
   },
   "source": [
    "#### Author : Snigdha Prakash\n",
    "#### Created on May 16 2020\n",
    "#### Purpose : Created for practice and to guide the learners in data science journey\n",
    "#### Development status: \n",
    "####   1. May 16, 2020 : Initial development\n",
    "####   2. Aug 15, 2020 : Data Visualization added"
   ]
  },
  {
   "cell_type": "code",
   "execution_count": 1,
   "metadata": {},
   "outputs": [],
   "source": [
    "#Import required libraries\n",
    "import pandas as pd\n",
    "import numpy as np\n",
    "import datetime\n",
    "import matplotlib.pyplot as plt\n",
    "import seaborn as sns"
   ]
  },
  {
   "cell_type": "code",
   "execution_count": 2,
   "metadata": {},
   "outputs": [
    {
     "data": {
      "text/plain": [
       "'F:\\\\Snigdha-Upgrad\\\\Codes\\\\mutualFundAnalysis'"
      ]
     },
     "execution_count": 2,
     "metadata": {},
     "output_type": "execute_result"
    }
   ],
   "source": [
    "import os\n",
    "os.getcwd()"
   ]
  },
  {
   "cell_type": "code",
   "execution_count": 3,
   "metadata": {},
   "outputs": [],
   "source": [
    "#read csv file\n",
    "mf_data = pd.read_csv(\"eda.csv\")"
   ]
  },
  {
   "cell_type": "code",
   "execution_count": 4,
   "metadata": {},
   "outputs": [],
   "source": [
    "#Function blocks\n",
    "\n",
    "#Defining a function to find the number of rows and columns in the dataset\n",
    "def get_rows_cols(df):\n",
    "    no_of_rows = df.shape[0]\n",
    "    no_of_cols = df.shape[1]\n",
    "    print(\"Number of rows in the dataset : \" + str(no_of_rows) + \"\\nNumber of columns in the dataset : \" + str(no_of_cols))\n",
    "\n",
    "def rename_columns(df,colname_list):\n",
    "    try:\n",
    "        df.columns = colname_list\n",
    "        print(\"Columns renamed successfully\")\n",
    "    except:\n",
    "        raise ValueError(\"Unable to rename columns\")\n",
    "    return df\n",
    "\n",
    "def percent_nan(df,colname):\n",
    "    num_of_nan = df[colname].isnull().sum()\n",
    "    per_nan = num_of_nan*100/df.shape[0]\n",
    "    return per_nan\n",
    "    \n",
    "def calc_total_net_assets(x):\n",
    "    if x['currency'] == 'INR':\n",
    "        value = x['total_net_assets'] * 0.013\n",
    "    else:\n",
    "        value = x['total_net_assets']\n",
    "    return value"
   ]
  },
  {
   "cell_type": "code",
   "execution_count": 5,
   "metadata": {},
   "outputs": [
    {
     "name": "stdout",
     "output_type": "stream",
     "text": [
      "Number of rows in the dataset : 25304\n",
      "Number of columns in the dataset : 57\n"
     ]
    }
   ],
   "source": [
    "#Getting dimension of dataframe\n",
    "get_rows_cols(mf_data) \n",
    "\n",
    "#Renaming the columns\n",
    "#colname_list = [\"fund_name\",\"fund_family\",\"investment\",\"size\",\"total_net_assets\",\"currency\",\"conversion_rate\",\"net_annual_expenses\",\"morningstar_rating\",\"inception_date\",\"portfolio_cash\",\"portfolio_cash Amount\",\"portfolio_stocks\",\"portfolio_stocks amount\",\"portfolio_bonds\",\"portfolio_bonds amount\",\"portfolio_others\",\"portfolio_others amount\",\"portfolio_preferred\",\"portfolio_preferred amount\",\"portfolio_convertible\",\"portfolio_convertible amount\",\"sectors_basic_materials\",\"sectors_basic_materials amount\",\"sectors_consumer_cyclical\",\"sectors_consumer_cyclical amount\",\"sectors_financial_services\",\"sectors_financial_services amount\",\"sectors_real_estate\",\"sectors_real_estate amount\",\"sectors_consumer_defensive\",\"sectors_consumer_defensive amount\",\"sectors_healthcare\",\"sectors_healthcare amount\",\"sectors_utilities\",\"sectors_utilities amount\",\"sectors_communication_services\",\"sectors_communication_services amount\",\"sectors_energy\",\"sectors_energy amount\",\"sectors_industrials\",\"sectors_industrials amount\",\"sectors_technology\",\"sectors_technology amount\",\"price_earning\",\"morningstar_return_rating\",\"returns_ytd\",\"returns_2017\",\"returns_2016\",\"morningstar_risk_rating\",\"alpha_3y\",\"beta_3y\",\"mean_annual_return_3y\",\"standard_deviation_3y\",\"sharpe_ratio_3y\",\"treynor_ratio_3y\"]\n",
    "#mf_data = rename_columns(mf_data,colname_list)\n",
    "\n",
    "#Displaying the columns in dataframe\n",
    "mf_data_cols = list(mf_data.columns)\n",
    "#mf_data_cols"
   ]
  },
  {
   "cell_type": "code",
   "execution_count": 6,
   "metadata": {},
   "outputs": [],
   "source": [
    "#Summary of the tasks planned\n",
    "\n",
    "#Finding null values/missing values\n",
    "#Missing value imputation\n",
    "#Text process - all small/all caps/incorrect naming\n",
    "#INR to USD conversion\n",
    "#Check if date is in correct format\n",
    "#cash+stock+bonds+others+preferred+convertible = 100\n",
    "#all sectors adds upto 100\n",
    "#derived metrics based on date\n",
    "#derived metric for average return\n",
    "#correlation metrics\n",
    "#plots"
   ]
  },
  {
   "cell_type": "code",
   "execution_count": 7,
   "metadata": {},
   "outputs": [
    {
     "data": {
      "text/html": [
       "<div>\n",
       "<style scoped>\n",
       "    .dataframe tbody tr th:only-of-type {\n",
       "        vertical-align: middle;\n",
       "    }\n",
       "\n",
       "    .dataframe tbody tr th {\n",
       "        vertical-align: top;\n",
       "    }\n",
       "\n",
       "    .dataframe thead th {\n",
       "        text-align: right;\n",
       "    }\n",
       "</style>\n",
       "<table border=\"1\" class=\"dataframe\">\n",
       "  <thead>\n",
       "    <tr style=\"text-align: right;\">\n",
       "      <th></th>\n",
       "      <th>Fund_Name</th>\n",
       "      <th>Num_of_missingVal</th>\n",
       "    </tr>\n",
       "  </thead>\n",
       "  <tbody>\n",
       "  </tbody>\n",
       "</table>\n",
       "</div>"
      ],
      "text/plain": [
       "Empty DataFrame\n",
       "Columns: [Fund_Name, Num_of_missingVal]\n",
       "Index: []"
      ]
     },
     "execution_count": 7,
     "metadata": {},
     "output_type": "execute_result"
    }
   ],
   "source": [
    "#Find the number of null values/missing values \n",
    "mf_data.isnull().sum()\n",
    "\n",
    "#Can you store the result in a dataframe and try to filter the values only greater than 0?\n",
    "mf_data_findnull = pd.DataFrame(mf_data.isnull().sum())\n",
    "mf_data_findnull.reset_index(level=0, inplace=True)\n",
    "mf_data_findnull.columns = ['Fund_Name','Num_of_missingVal']\n",
    "\n",
    "mf_data_findnull[mf_data_findnull.Num_of_missingVal > 0]"
   ]
  },
  {
   "cell_type": "code",
   "execution_count": 8,
   "metadata": {},
   "outputs": [
    {
     "data": {
      "text/plain": [
       "[]"
      ]
     },
     "execution_count": 8,
     "metadata": {},
     "output_type": "execute_result"
    }
   ],
   "source": [
    "column_missing_data = ['net_annual_expenses','morningstar_rating','inception_date','portfolio_cash','portfolio_cash Amount','portfolio_stocks amount','portfolio_stocks','portfolio_bonds','portfolio_bonds amount','portfolio_others','portfolio_others amount','portfolio_preferred','portfolio_preferred amount','portfolio_convertible','portfolio_convertible amount','sectors_basic_materials','sectors_basic_materials amount','sectors_consumer_cyclical','sectors_consumer_cyclical amount','sectors_financial_services','sectors_financial_services amount','sectors_real_estate','sectors_real_estate amount','sectors_consumer_defensive','sectors_consumer_defensive amount','sectors_healthcare','sectors_healthcare amount','sectors_utilities','sectors_utilities amount','sectors_communication_services','sectors_communication_services amount','sectors_energy','sectors_energy amount','sectors_industrials','sectors_industrials amount','sectors_technology','sectors_technology amount','price_earning','morningstar_return_rating','returns_ytd','returns_2017','returns_2016','morningstar_risk_rating','alpha_3y','beta_3y','mean_annual_return_3y','standard_deviation_3y','sharpe_ratio_3y','treynor_ratio_3y']\n",
    "#List comprehension\n",
    "percent_nan_list = [col+' : '+str(percent_nan(mf_data,col)) for col in column_missing_data] \n",
    "percent_nan_list\n",
    "\n",
    "##Task - Can you write a code to check if the percentage of missing values is within a limit say 5%?\n",
    "percent_nan_list_5per = [col+' : '+str(percent_nan(mf_data,col)) for col in column_missing_data if percent_nan(mf_data,col) > 0.05] \n",
    "percent_nan_list_5per"
   ]
  },
  {
   "cell_type": "code",
   "execution_count": 9,
   "metadata": {},
   "outputs": [
    {
     "data": {
      "text/html": [
       "<div>\n",
       "<style scoped>\n",
       "    .dataframe tbody tr th:only-of-type {\n",
       "        vertical-align: middle;\n",
       "    }\n",
       "\n",
       "    .dataframe tbody tr th {\n",
       "        vertical-align: top;\n",
       "    }\n",
       "\n",
       "    .dataframe thead th {\n",
       "        text-align: right;\n",
       "    }\n",
       "</style>\n",
       "<table border=\"1\" class=\"dataframe\">\n",
       "  <thead>\n",
       "    <tr style=\"text-align: right;\">\n",
       "      <th></th>\n",
       "      <th>fund_name</th>\n",
       "      <th>fund_family</th>\n",
       "      <th>investment</th>\n",
       "      <th>size</th>\n",
       "      <th>total_net_assets</th>\n",
       "      <th>currency</th>\n",
       "      <th>conversion_rate</th>\n",
       "      <th>net_annual_expenses</th>\n",
       "      <th>morningstar_rating</th>\n",
       "      <th>inception_date</th>\n",
       "      <th>...</th>\n",
       "      <th>returns_2017</th>\n",
       "      <th>returns_2016</th>\n",
       "      <th>morningstar_risk_rating</th>\n",
       "      <th>alpha_3y</th>\n",
       "      <th>beta_3y</th>\n",
       "      <th>mean_annual_return_3y</th>\n",
       "      <th>standard_deviation_3y</th>\n",
       "      <th>sharpe_ratio_3y</th>\n",
       "      <th>treynor_ratio_3y</th>\n",
       "      <th>add_portfolio</th>\n",
       "    </tr>\n",
       "  </thead>\n",
       "  <tbody>\n",
       "    <tr>\n",
       "      <td>0</td>\n",
       "      <td>Deutsche Real Assets A</td>\n",
       "      <td>Deutsche Asset Management</td>\n",
       "      <td>Blend</td>\n",
       "      <td>Large</td>\n",
       "      <td>486740000.0</td>\n",
       "      <td>USD</td>\n",
       "      <td>75.47</td>\n",
       "      <td>1.22</td>\n",
       "      <td>2</td>\n",
       "      <td>29/07/2007</td>\n",
       "      <td>...</td>\n",
       "      <td>14.67</td>\n",
       "      <td>4.01</td>\n",
       "      <td>3</td>\n",
       "      <td>-1.96</td>\n",
       "      <td>0.84</td>\n",
       "      <td>0.26</td>\n",
       "      <td>7.16</td>\n",
       "      <td>0.35</td>\n",
       "      <td>2.70</td>\n",
       "      <td>100.01</td>\n",
       "    </tr>\n",
       "    <tr>\n",
       "      <td>1</td>\n",
       "      <td>Aberdeen Income Builder A</td>\n",
       "      <td>Aberdeen</td>\n",
       "      <td>Value</td>\n",
       "      <td>Large</td>\n",
       "      <td>9980000.0</td>\n",
       "      <td>USD</td>\n",
       "      <td>75.47</td>\n",
       "      <td>1.44</td>\n",
       "      <td>2</td>\n",
       "      <td>29/12/2011</td>\n",
       "      <td>...</td>\n",
       "      <td>17.05</td>\n",
       "      <td>11.26</td>\n",
       "      <td>3</td>\n",
       "      <td>-4.84</td>\n",
       "      <td>1.00</td>\n",
       "      <td>0.51</td>\n",
       "      <td>10.62</td>\n",
       "      <td>0.51</td>\n",
       "      <td>5.04</td>\n",
       "      <td>100.00</td>\n",
       "    </tr>\n",
       "    <tr>\n",
       "      <td>2</td>\n",
       "      <td>Thrivent Large Cap Growth A</td>\n",
       "      <td>Thrivent</td>\n",
       "      <td>Growth</td>\n",
       "      <td>Large</td>\n",
       "      <td>997620000.0</td>\n",
       "      <td>USD</td>\n",
       "      <td>75.47</td>\n",
       "      <td>1.20</td>\n",
       "      <td>3</td>\n",
       "      <td>28/10/1999</td>\n",
       "      <td>...</td>\n",
       "      <td>27.70</td>\n",
       "      <td>-2.26</td>\n",
       "      <td>4</td>\n",
       "      <td>1.04</td>\n",
       "      <td>1.10</td>\n",
       "      <td>1.08</td>\n",
       "      <td>12.91</td>\n",
       "      <td>0.96</td>\n",
       "      <td>11.15</td>\n",
       "      <td>100.00</td>\n",
       "    </tr>\n",
       "    <tr>\n",
       "      <td>3</td>\n",
       "      <td>Horizon Active Asset Allocation Investor</td>\n",
       "      <td>Horizon Investments</td>\n",
       "      <td>Blend</td>\n",
       "      <td>Large</td>\n",
       "      <td>451260000.0</td>\n",
       "      <td>USD</td>\n",
       "      <td>75.47</td>\n",
       "      <td>1.36</td>\n",
       "      <td>5</td>\n",
       "      <td>30/01/2012</td>\n",
       "      <td>...</td>\n",
       "      <td>22.25</td>\n",
       "      <td>4.56</td>\n",
       "      <td>4</td>\n",
       "      <td>-1.87</td>\n",
       "      <td>1.64</td>\n",
       "      <td>0.62</td>\n",
       "      <td>10.79</td>\n",
       "      <td>0.63</td>\n",
       "      <td>3.94</td>\n",
       "      <td>99.99</td>\n",
       "    </tr>\n",
       "    <tr>\n",
       "      <td>4</td>\n",
       "      <td>Deutsche Real Assets C</td>\n",
       "      <td>Deutsche Asset Management</td>\n",
       "      <td>Blend</td>\n",
       "      <td>Large</td>\n",
       "      <td>486740000.0</td>\n",
       "      <td>USD</td>\n",
       "      <td>75.47</td>\n",
       "      <td>1.97</td>\n",
       "      <td>1</td>\n",
       "      <td>29/07/2007</td>\n",
       "      <td>...</td>\n",
       "      <td>13.69</td>\n",
       "      <td>3.24</td>\n",
       "      <td>3</td>\n",
       "      <td>-2.77</td>\n",
       "      <td>0.85</td>\n",
       "      <td>0.20</td>\n",
       "      <td>7.21</td>\n",
       "      <td>0.24</td>\n",
       "      <td>1.76</td>\n",
       "      <td>100.01</td>\n",
       "    </tr>\n",
       "  </tbody>\n",
       "</table>\n",
       "<p>5 rows × 57 columns</p>\n",
       "</div>"
      ],
      "text/plain": [
       "                                  fund_name                fund_family  \\\n",
       "0                    Deutsche Real Assets A  Deutsche Asset Management   \n",
       "1                 Aberdeen Income Builder A                   Aberdeen   \n",
       "2               Thrivent Large Cap Growth A                   Thrivent   \n",
       "3  Horizon Active Asset Allocation Investor        Horizon Investments   \n",
       "4                    Deutsche Real Assets C  Deutsche Asset Management   \n",
       "\n",
       "  investment   size  total_net_assets currency  conversion_rate  \\\n",
       "0      Blend  Large       486740000.0      USD            75.47   \n",
       "1      Value  Large         9980000.0      USD            75.47   \n",
       "2     Growth  Large       997620000.0      USD            75.47   \n",
       "3      Blend  Large       451260000.0      USD            75.47   \n",
       "4      Blend  Large       486740000.0      USD            75.47   \n",
       "\n",
       "   net_annual_expenses  morningstar_rating inception_date  ...  returns_2017  \\\n",
       "0                 1.22                   2     29/07/2007  ...         14.67   \n",
       "1                 1.44                   2     29/12/2011  ...         17.05   \n",
       "2                 1.20                   3     28/10/1999  ...         27.70   \n",
       "3                 1.36                   5     30/01/2012  ...         22.25   \n",
       "4                 1.97                   1     29/07/2007  ...         13.69   \n",
       "\n",
       "   returns_2016  morningstar_risk_rating  alpha_3y  beta_3y  \\\n",
       "0          4.01                        3     -1.96     0.84   \n",
       "1         11.26                        3     -4.84     1.00   \n",
       "2         -2.26                        4      1.04     1.10   \n",
       "3          4.56                        4     -1.87     1.64   \n",
       "4          3.24                        3     -2.77     0.85   \n",
       "\n",
       "   mean_annual_return_3y  standard_deviation_3y  sharpe_ratio_3y  \\\n",
       "0                   0.26                   7.16             0.35   \n",
       "1                   0.51                  10.62             0.51   \n",
       "2                   1.08                  12.91             0.96   \n",
       "3                   0.62                  10.79             0.63   \n",
       "4                   0.20                   7.21             0.24   \n",
       "\n",
       "   treynor_ratio_3y  add_portfolio  \n",
       "0              2.70         100.01  \n",
       "1              5.04         100.00  \n",
       "2             11.15         100.00  \n",
       "3              3.94          99.99  \n",
       "4              1.76         100.01  \n",
       "\n",
       "[5 rows x 57 columns]"
      ]
     },
     "execution_count": 9,
     "metadata": {},
     "output_type": "execute_result"
    }
   ],
   "source": [
    "mf_data.head()"
   ]
  },
  {
   "cell_type": "code",
   "execution_count": 10,
   "metadata": {},
   "outputs": [
    {
     "data": {
      "text/plain": [
       "['fund_name : 0.0',\n",
       " 'fund_family : 0.0',\n",
       " 'investment : 0.0',\n",
       " 'size : 0.0',\n",
       " 'morningstar_rating : 0.0',\n",
       " 'morningstar_return_rating : 0.0',\n",
       " 'morningstar_risk_rating : 0.0']"
      ]
     },
     "execution_count": 10,
     "metadata": {},
     "output_type": "execute_result"
    }
   ],
   "source": [
    "#Listing down categorical and numerical columns\n",
    "mf_data_cat_cols = ['fund_name','fund_family','investment','size','morningstar_rating','morningstar_return_rating','morningstar_risk_rating']\n",
    "mf_data_num_cols = [col for col in mf_data_cols if col not in mf_data_cat_cols]\n",
    "\n",
    "#Finding the percentage of missing values in categorical columns\n",
    "percent_nan_cat_list = [col+' : '+str(percent_nan(mf_data,col)) for col in mf_data_cat_cols]\n",
    "percent_nan_cat_list"
   ]
  },
  {
   "cell_type": "code",
   "execution_count": 11,
   "metadata": {},
   "outputs": [
    {
     "data": {
      "text/plain": [
       "[]"
      ]
     },
     "execution_count": 11,
     "metadata": {},
     "output_type": "execute_result"
    }
   ],
   "source": [
    "#Finding the percentage of missing values in numerical columns\n",
    "percent_nan_num_list = [col+' : '+str(percent_nan(mf_data,col)) for col in mf_data_num_cols]\n",
    "percent_nan_num_list\n",
    "\n",
    "percent_nan_num_list_5per = [col+' : '+str(percent_nan(mf_data,col)) for col in mf_data_num_cols if percent_nan(mf_data,col) > 0.05] \n",
    "percent_nan_num_list_5per"
   ]
  },
  {
   "cell_type": "code",
   "execution_count": 12,
   "metadata": {},
   "outputs": [],
   "source": [
    "#Missing value imputation for categorical variable\n",
    "#Removing the rows since percent of na values < 5%\n",
    "mf_data = mf_data.dropna(how='any',axis=0) "
   ]
  },
  {
   "cell_type": "code",
   "execution_count": 13,
   "metadata": {},
   "outputs": [
    {
     "data": {
      "text/plain": [
       "[]"
      ]
     },
     "execution_count": 13,
     "metadata": {},
     "output_type": "execute_result"
    }
   ],
   "source": [
    "#portfolio_cash,portfolio_stocks,portfolio_bonds,portfolio_others,portfolio_preferred,portfolio_convertible should add upto 100%\n",
    "#Find which rows doesn't align\n",
    "\n",
    "mf_data_morphed = mf_data\n",
    "mf_data_morphed['add_portfolio'] = mf_data_morphed['portfolio_cash'] + mf_data_morphed['portfolio_stocks'] + mf_data_morphed['portfolio_bonds']  + mf_data_morphed['portfolio_others'] + mf_data_morphed['portfolio_preferred'] + mf_data_morphed['portfolio_convertible']\n",
    "\n",
    "#Remove the rows where the add amount = 0\n",
    "mf_data_morphed = mf_data_morphed[mf_data_morphed['add_portfolio'] > 0]\n",
    "\n",
    "list(mf_data_morphed[mf_data_morphed['add_portfolio'] < 99]['add_portfolio'])\n",
    "\n",
    "##Task - Why are some rows having add amount <> 100? How can we impute these?"
   ]
  },
  {
   "cell_type": "code",
   "execution_count": 14,
   "metadata": {},
   "outputs": [
    {
     "name": "stdout",
     "output_type": "stream",
     "text": [
      "['Deutsche Real Assets A' 'Aberdeen Income Builder A'\n",
      " 'Thrivent Large Cap Growth A' ... 'Zevenbergen Genea Investor'\n",
      " 'Zevenbergen Growth Investor' 'Zevenbergen Growth Institutional']\n",
      "['Deutsche Asset Management' 'Aberdeen' 'Thrivent' 'Horizon Investments'\n",
      " 'American Century Investments' 'American Funds' 'Cavanal Hill funds'\n",
      " 'Putnam' 'American Beacon' 'Allianz Funds' 'Invesco' 'Aasgard' 'Alger'\n",
      " 'Ancora' 'Absolute Capital' 'AllianceBernstein' 'American Independence'\n",
      " 'AMG Funds' 'Columbia' 'AmericaFirst Funds' 'ABR' 'Abbey Capital'\n",
      " 'RBC Global Asset Management.' 'Arbitrage Fund' 'Salient Funds' 'Voya'\n",
      " 'AC ONE' 'Catalyst Mutual Funds' 'AQR Funds' 'Adalta' 'Azzad Fund'\n",
      " 'Adirondack Funds' '361 Funds' 'ACM' 'Advisory Research'\n",
      " 'Ariel Investments' 'Acadian Funds' 'Transamerica' 'Ascendant'\n",
      " 'Yorktown Funds' 'ProFunds' 'Angel Oak' 'Anfield' 'AFBA 5Star Fund' 'AAM'\n",
      " 'Meeder Funds' 'PGIM Investments' 'AGF Investments' 'Acuitas Investments'\n",
      " 'Affinity' 'Wilmington Funds' 'Akre' 'Leavell' 'Alambic' 'Lord Abbett'\n",
      " 'Hatteras Funds' 'ALPS' 'Firsthand Funds' 'Amana' 'AMIDEX'\n",
      " 'Natixis Funds' 'AAMA' 'AlphaMark' 'MainGate Trust' 'American Growth'\n",
      " 'Pioneer Investments' 'AlphaOne Funds' 'Artisan' 'Appleseed Fund'\n",
      " 'Fiera Capital' 'Pinnacle' 'First Trust' 'LKCM' 'MTB Group of Funds'\n",
      " 'Absolute Strategies' 'Archer' 'Anchor' 'Legg Mason' 'Nottingham'\n",
      " 'Aristotle' 'Nuveen' 'AMF' 'Adams Harkness Funds' 'Arrow Funds'\n",
      " 'Aspen Partners' 'Aspiration Funds' 'Astor' 'Arabesque Asset Management'\n",
      " 'ATAC Fund' 'American Trust' 'Patriot' 'Aquila' 'PIMCO' 'Athena Fund'\n",
      " 'Auer' 'Auxier Funds' 'Aegis' 'Ave Maria Mutual Funds' 'Dreyfus'\n",
      " 'AT Funds' 'BlackRock' 'Potkul Funds' 'BMO Funds' 'Brown Advisory Funds'\n",
      " 'Sterling Capital Funds' 'Baird' 'Barrow Funds' 'Diamond Hill Funds'\n",
      " 'Baron Capital Group' 'Beacon Investment Advisory' 'Northern Funds' 'BBH'\n",
      " 'Bridge Builder' 'William Blair' 'Boston Common' 'Blue Current Funds'\n",
      " 'Blue Chip Investor Fund' 'Brown Capital Management' 'Brandes'\n",
      " 'Liberty Street' 'AlphaCentric Funds' 'Federated' 'BeeHive'\n",
      " 'Franklin Templeton Investments' 'Boston Partners' 'Balter'\n",
      " 'Chartwell Investment Partners' 'Berkshire' 'Biondo Investment Advisor'\n",
      " 'BFS' 'Baillie Gifford Funds' 'Brookfield Investment Funds' 'Barrett'\n",
      " 'Madison Funds' 'Soundwatch Capital' 'Bishop Street' 'Beech Hill'\n",
      " 'Monteagle Funds' 'DoubleLine' 'UBS Asset Management' 'BNY Mellon Funds'\n",
      " 'MT Lucas' 'Beck, Mack & Oliver' 'MFS' 'BMT' 'BNP Paribas AM'\n",
      " 'State Farm' 'Bogle' 'Oak Associates' 'Boston Trust & Walden Funds'\n",
      " 'Bridgeway' 'Boyar Value Fund' 'bp capital' 'Bright Rock'\n",
      " 'World Funds Trust' 'Bridges' 'Bramshill Investments' 'Bretton Fund'\n",
      " 'Bruce' 'Bernzott Capital Advisors' 'Smith Group' 'BTS' 'Buffalo'\n",
      " 'CBOE Vest' 'Main Management' 'Broadview Funds' 'Becker' 'Baywood'\n",
      " 'Boyd Watterson' 'Bullfinch' 'Barings Funds' 'Blackstone'\n",
      " 'Calvert Investments' 'Cornerstone' 'Congress' 'Cavalier' 'Calamos'\n",
      " 'Commonwealth Intl Series Tr' 'Cutler' 'Iron Funds' 'Cambiar Funds'\n",
      " 'Cincinnati Asset Management Funds' 'NorthCoast' 'Eaton Vance'\n",
      " 'Canterbury Investment Management' 'Castle Investment Management'\n",
      " 'Shelton Capital Management' 'SEI' 'Wells Fargo Funds' 'JPMorgan'\n",
      " 'Victory' 'CrossingBridge' 'CornerCap' 'Virtus'\n",
      " 'Conestoga Capital Advisors' 'Chiron Investment Management'\n",
      " 'City National Rochdale' 'Capital Group' 'Aston' 'Principal Funds'\n",
      " 'Community Capital Management' 'Cardinal Capital' 'Copeland Funds'\n",
      " 'Chadwick & D&#39;Amato' 'Cohen & Steers' 'Crawford' 'Campbell & Company'\n",
      " 'Cullen Funds Trust' 'Causeway' 'Centerstone Investors' 'Camelot Funds'\n",
      " 'Commerce' 'Clipper Fund' 'Caravan' 'Touchstone' 'Clarkston Funds'\n",
      " 'CG funds' 'CGM' 'Context Asset Management' 'OppenheimerFunds' 'Chase'\n",
      " 'Chesapeake' 'Chilton Funds' 'Credit Suisse (New York, NY)'\n",
      " 'Chou America' 'CMG' 'Capital Advisors' 'Champlain Funds' 'Convergence'\n",
      " 'Cortina Funds Inc' 'AdvisorOne Funds' 'Clifford Capital' 'Clough'\n",
      " 'VanEck' 'CM Advisors' 'Capital Management' 'Caldwell & Orkin'\n",
      " 'Cook & Bynum' 'Cognios Capital' 'Cognios' 'Coho' 'Gabelli' 'Concorde'\n",
      " 'Copley' 'Counterpoint Mutual Funds' 'Pacific LifeFunds'\n",
      " 'Changing Parameters' 'Morgan Stanley' 'Carillon Family of Funds' 'CRM'\n",
      " 'Cedar Ridge' 'MainStay' 'Cove Street Capital' 'CVR' 'Spouting Rock'\n",
      " 'Christopher Weil' 'Delaware Funds by Macquarie' 'Zacks Funds'\n",
      " 'Dunham Funds' 'Dean Fund' 'Davenport' 'Miller/Howard Funds Trust'\n",
      " 'Dimensional Fund Advisors' 'DuPont' 'Destinations Funds'\n",
      " 'Jackson Square' 'Macquarie Investment Management' 'Davis Funds'\n",
      " '13D Activist Fund' 'DDJ' 'Tocqueville' 'MassMutual' 'Driehaus'\n",
      " 'DF Dent Funds' 'Davidson Mutual Funds' 'DGHM' 'DGI' 'Day Hagan'\n",
      " 'Centre Funds' 'Domini' 'MAI' 'Dana Investment' 'Power Mutual Funds'\n",
      " 'Dodge & Cox' 'Deer Park' 'Destra' 'Mondrian' 'Dupree'\n",
      " 'Dearborn Partners' 'MP 63' 'Foundry' 'Wilshire Mutual Funds'\n",
      " 'Direxion Funds' 'First Eagle' 'Equinox' 'Ashmore' 'Lazard' 'Riverbridge'\n",
      " 'AIG' 'Essex Funds' 'Emerald' 'Fidelity Investments'\n",
      " 'Managed Futures Solutions Fund' 'Edgewood' 'Eagle MLP'\n",
      " 'State Street Global Advisors' 'Equity Investment Corp' 'First Investors'\n",
      " 'EIP Funds' 'Elessar Investment Management' 'Empiric Funds'\n",
      " 'Ensemble Fund' 'EntrepreneurShares' 'Euro Pacific Asset Management'\n",
      " 'Epiphany Funds' 'KKM' 'Eventide Funds' 'Stadion Funds'\n",
      " 'U.S. Global Investors' 'E-Valuator funds' 'Evermore' 'Altegris'\n",
      " 'Wall Street' 'Manning & Napier' 'Fairholme' 'Frost Funds'\n",
      " 'American Money Management' 'Kempner' 'FAM' 'Fulcrum'\n",
      " 'Flippin, Bruce & Porter Funds' 'Frontier Funds' 'FCI Funds'\n",
      " 'FormulaFolios' 'John Hancock' 'First Security Fund' 'First State'\n",
      " 'Wasatch' 'RBB Funds' 'FMI Funds' 'FMC Funds' 'Silk Invest' 'Frank Funds'\n",
      " 'Tributary Funds' 'Motley Fool' 'FPA' 'Fort Pitt Capital Funds'\n",
      " 'FS Investments' 'Fuller & Thaler' 'Fund X' 'Forester'\n",
      " 'First Western Capital Mgt' 'Portfolio Strategies' 'FX Strategy Fund'\n",
      " 'Guinness Atkinson' 'GMO' 'Gotham' 'Goldman Sachs' 'Nationwide'\n",
      " 'GuideStone Funds' 'Kellner' 'Hennessy' 'GaveKal' 'Green Century'\n",
      " 'Gurtin' 'Giralda Fund' 'Sit' 'RNC Genter Capital Management' 'Glenmede'\n",
      " 'Gator' 'Gerstein Fisher' 'Golub' 'Grandeur Peak Funds' 'Leland Funds'\n",
      " 'Good Harbor' 'GuidePath' 'Guggenheim Investments' 'GuideMark' 'Leuthold'\n",
      " 'Great Lakes Funds' 'James Advantage' 'LMCG Funds' 'GoodHaven'\n",
      " 'Green Owl' 'Grant Park' 'GQG Partners' 'Goehring & Rozencwajg'\n",
      " 'Saratoga' 'Greenspring' 'Green Square Asset Management' 'T. Rowe Price'\n",
      " 'Hartford Mutual Funds' 'Harbor' 'HSBC' 'Hancock Horizon' 'Hanlon'\n",
      " 'Haverford' 'Rational Funds' 'HC Capital Trust'\n",
      " 'Hillman Capital Management' 'Howard Capital Management' 'Highland Funds'\n",
      " 'Janus Henderson' 'Hodges' 'Harvest Volatility Management'\n",
      " 'Scharf Investments' 'Henssler Funds' 'Hundredfold' 'Hamlin Funds'\n",
      " 'Hansberger Funds' 'Freedom Funds' 'Heartland' 'Homestead'\n",
      " 'Harding Loevner' 'REMSGroup' 'Highmore' 'Holbrook Holdings'\n",
      " 'Holland Series Trust' 'Hood River Capital Management' 'Hussman Funds'\n",
      " 'Eagle Funds' 'Heitman' 'Huber Funds' 'HVIA Equity Fund'\n",
      " 'Hotchkis & Wiley' 'Harvest Funds' 'Ivy Funds' 'IronBridge Funds'\n",
      " 'ICON Funds' 'Innealta Capital' 'Intrepid Funds' 'IntegrityVikingFunds'\n",
      " 'ICM Series Trust' 'Independent Franchise Partners' 'Insignia Macro'\n",
      " 'Allied Asset' 'Index Funds' 'Oak Ridge Funds' 'Poplar Forest Capital'\n",
      " 'WP Trust' 'Infinity Q' 'IndexIQ' 'ACR Alpine Capital Research'\n",
      " 'IQ Capital Strategy' 'Ironclad Funds' 'IVA Funds'\n",
      " 'Williamsburg Investment Trust' 'Jacob' 'Janus' 'Johnson Mutual Funds'\n",
      " 'Jensen' 'JAG Capital Management' 'JOHCM Funds' 'Artio Global' 'Keeley'\n",
      " 'Catholic Investor' 'KCM' 'Kaizen' 'Kopernik' 'Kinetics' 'Keystone'\n",
      " 'Kirr Marbach Partners' 'KP Funds' 'Ladenburg Thalmann' 'LGM Capital'\n",
      " 'Loomis Sayles Funds' 'LEADER' 'Miller Value Funds' 'Leeb' 'LoCorr Funds'\n",
      " 'Laudus Funds' 'Logan Capital' 'Linde Hansen' 'Lateef' 'Issachar Fund'\n",
      " 'Lawson Kroeker' 'Longleaf Partners' 'LM Capital' '1919 Funds'\n",
      " 'Edgar Lomax' 'Longboard' 'LS' 'Ladder Capital Corp' 'Persimmon Funds'\n",
      " 'Long Short' 'LSV Fund' 'Thornburg' 'Summit Global Investments' 'Lyrical'\n",
      " 'Merk Funds' 'Mutual of America' 'Matthews Asia Funds' 'FDP Series Funds'\n",
      " 'Matrix Advisors Funds Trust' 'Marshall' 'Mirae Asset Global Investments'\n",
      " 'Mairs & Power' 'Litman Gregory Masters Funds' 'Matrix/LMH'\n",
      " 'Praxis Mutual Funds' 'Miller Investment' 'Moncapfund' 'MD Sass'\n",
      " 'Managers Funds' 'Meehan Focus' 'Meridian' 'Mercer Funds'\n",
      " 'Westchester Capital' 'Marketfield Funds' 'Marsico Investment Fund'\n",
      " 'MH Elite' 'Midas' 'Miles Capital' 'Morgan Dempsey' 'McKee Funds'\n",
      " 'MProved' 'Manor Investment Funds' 'NWM Momentum' 'Monetta'\n",
      " 'MOERUS FUNDS' 'Meritage Portfolio Management' 'Marshfield'\n",
      " 'Marmont Funds' 'Measured Risk Portfolios' 'Muhlenkamp' 'Mundoval Funds'\n",
      " 'Marathon Funds' 'Metropolitan West Funds' 'Great-West Funds'\n",
      " 'Matthew 25' 'Muzinich' 'Neuberger Berman' 'New Alternatives' 'Vanguard'\n",
      " 'Nile Capital Investment Trust' 'Navigator Funds' 'Neiman Funds'\n",
      " 'Nuance Investments' 'North Country Funds' 'New Covenant' 'Nicholas'\n",
      " 'Needham' 'Newfound' 'Saturna Capital' 'Nicholas-Applegate'\n",
      " 'NorthPointe Funds' 'Northquest Capital Fund Inc' 'North Star'\n",
      " 'Northeast Investors' 'Northwood' 'Nysa' 'Oakmark' 'Oakhurst' 'Oberweis'\n",
      " 'OCM' 'Orchard Capital Management' 'O&#39;Shaughnessy Mutual Funds'\n",
      " 'Olstein' 'O&#39;Shaughnessy Asset Management' 'Oaktree Funds'\n",
      " 'Orinda Funds' 'Vivaldi' 'OFI' 'Osterweis' 'Otter Creek'\n",
      " 'Advisors Preferred' 'Mission Funds' 'Old Westbury' 'PNC Funds'\n",
      " 'Pacific Advisors Funds' 'Permanent Portfolio' 'Preserver Funds'\n",
      " 'Cushing Funds' 'Papp' 'Parnassus' 'Pax World' 'PIA Mutual Funds'\n",
      " 'Payson Funds' 'Polen Capital' 'Prospector Funds'\n",
      " 'Price Asset Management' 'Prudential Funds (PGIM Investments)' 'Perkins'\n",
      " 'Royce' 'Pacific Funds Series Trust' 'The Pacific Financial Group'\n",
      " 'Paradigm Funds' 'Penn Capital Management' 'Pacific Capital'\n",
      " 'Polaris Funds' 'PhaseCapital' 'Phocas' 'Paydenfunds'\n",
      " 'Wisconsin Capital Management' 'Perritt' 'PMC Funds'\n",
      " 'PRIMECAP Odyssey Funds' 'Trillium Mutual Funds' 'Princeton'\n",
      " 'Probabilities Fund' 'Provident' 'Palmer Square'\n",
      " 'Pinnacle Capital Management' 'PSG Funds' 'Port Street Investments'\n",
      " 'Piedmont' 'PT Asset Management, LLC (PTAM)' 'Pzena' 'Quaker'\n",
      " 'Pear Tree Funds' 'EquityCompass' 'Queens Road Funds' 'USA Mutuals'\n",
      " 'Conductor' 'Russell' 'Reynolds' 'Rockefeller & Co.' 'Schwartz'\n",
      " 'River Canyon' 'AAAMCO' 'Ranger Funds' 'RiverPark Funds'\n",
      " 'Rice Hall James' 'Ryan Labs' 'Rareview Capital' 'RMB Funds'\n",
      " 'RMB Capital Management' 'Aspiriant' 'Rrecurrent Advisors' 'Rydex Funds'\n",
      " 'Redmont' 'RiverNorth Funds' 'Rondure Global' 'Reinhartfunds'\n",
      " 'RESQ Funds' 'RQSI' 'CCA Funds' 'RSQ' 'Reaves Select Research' 'Regal'\n",
      " 'Redwood' 'RWC' 'SA Funds' 'Spirit of America' 'SATUIT FUNDS' 'Weitz'\n",
      " 'Hedeker Wealth' 'Symons' 'Schroder' 'Segall Bryant & Hamill'\n",
      " 'Sextant Mutual Funds' 'Legg Mason/Western' 'Adam Asset Funds'\n",
      " 'Crossmark Steward Funds' 'Shenkman Funds' 'Friess Associates'\n",
      " 'Sands Capital' 'Schneider Funds' 'Swan' 'Snow Capital Funds'\n",
      " 'Saturna Sustainable Funds' 'Semper' 'Sequoia' 'Schwab Funds'\n",
      " 'Seafarer Funds' 'Sparrow' 'Strategic Global Advisors' 'Stone Harbor'\n",
      " 'USCA' 'Primary Trend' 'Sierra Trust' 'STAAR Investment Trust'\n",
      " 'Steben & Company' 'SkyBridge' 'Selected Funds' 'Selective' 'SMI Funds'\n",
      " 'Smead Funds' 'SilverPepper' 'Spyglass Capital Management' 'Sarofim'\n",
      " 'Sound Shore' 'Sirius Funds' 'AlphaCore' 'State Trust' 'Stralem Fund'\n",
      " 'Steinberg' 'Superfund' 'LeeHawaii'\n",
      " 'Real Estate Management Services Group, LLC' 'Timothy Plan'\n",
      " 'TIAA Investments' 'Third Avenue' 'Clark Fork Trust' 'Tweedy, Browne'\n",
      " 'TOBAM Core Investments' 'Tortoise Credit Strategies' 'Covered Bridge'\n",
      " 'TCM Funds' 'Trust for Credit Unions' 'TD Asset Management' 'Towle'\n",
      " 'Teberg' 'All Terrain Funds' 'Taylor Frigon Capital Management' 'TCW'\n",
      " 'Tanaka' 'Thomson Horstmann & Bryant' 'Toews Funds'\n",
      " 'Thompson IM Funds Inc' 'Investment House Funds' 'Centaur'\n",
      " 'Fisher Investments' 'Toreador' 'Old Mutual Investment Funds'\n",
      " 'Tortoise Capital Advisors' 'Torray' 'Torray Resolute' 'TS&W Funds'\n",
      " 'Topturn' 'Thomas White Funds' 'Two Oaks Investment Management, Inc.'\n",
      " 'TransWestern Funds' 'USAA' 'Upright Investments Trust'\n",
      " 'USCF Investments' 'Union Street Partners' 'Chaconia Funds' 'Value Line'\n",
      " 'Al Frank' 'Private Capital Management' 'Vert Asset Management' 'Villere'\n",
      " 'Advantus' 'Volumetric' 'Vontobel' 'Vulcan Value Partners'\n",
      " 'Vericimetry Funds' 'Waddell & Reed' 'Wilbanks Smith & Thomas'\n",
      " 'Wavelength Funds' 'Waycross' 'Teton Westwood Funds' 'Westfield Capital'\n",
      " 'WCM Investment Management' 'Weiss' 'Wells Fargo Advantage' 'Wealthfront'\n",
      " 'Wintergreen Funds' 'Westwood' 'Wireless' 'WesMark' 'WOA'\n",
      " 'Walthausen Funds' 'Wasmer Schroeder' 'YCG FUNDS' 'Zeo' 'Ziegler'\n",
      " 'Investec Asset Management' 'Zevenbergen Capital Investments']\n",
      "['Blend' 'Value' 'Growth' 'Others']\n",
      "['Large' 'Lrg' 'Medium' 'Others' 'Small' 'large' 'Med' 'small' 'lrg'\n",
      " 'medium']\n"
     ]
    }
   ],
   "source": [
    "#Finding unique values in categorical columns\n",
    "print(mf_data_morphed['fund_name'].unique())\n",
    "print(mf_data_morphed['fund_family'].unique())\n",
    "print(mf_data_morphed['investment'].unique())\n",
    "print(mf_data_morphed['size'].unique())\n"
   ]
  },
  {
   "cell_type": "code",
   "execution_count": 15,
   "metadata": {},
   "outputs": [],
   "source": [
    "#Large, Lrg, lrg --> Medium, Med, medium --> Others --> Small, small \n",
    "#Converting the case of the size column\n",
    "\n",
    "value_change = {'large' : 'large',\n",
    "                 'lrg' : 'large',\n",
    "                 'medium' : 'medium',\n",
    "                 'med' : 'medium',\n",
    "                 'small' : 'small',\n",
    "                 'others' : 'others'}\n",
    "\n",
    "pd.set_option('chained_assignment',None)\n",
    "mf_data_morphed.loc[:,'size'] = mf_data_morphed.loc[:, 'size'].str.lower()\n",
    "\n",
    "mf_data_morphed['size'] = mf_data_morphed['size'].map(value_change)\n",
    "\n",
    "##Task - What other ways can you sync the variations in categorical column?\n",
    "##Task - Can you analyse the remaining categorical columns to find anomalies and fix them?"
   ]
  },
  {
   "cell_type": "code",
   "execution_count": 16,
   "metadata": {},
   "outputs": [
    {
     "data": {
      "text/plain": [
       "(25304, 57)"
      ]
     },
     "execution_count": 16,
     "metadata": {},
     "output_type": "execute_result"
    }
   ],
   "source": [
    "mf_data_morphed.head()\n",
    "mf_data_morphed.shape"
   ]
  },
  {
   "cell_type": "code",
   "execution_count": 17,
   "metadata": {},
   "outputs": [
    {
     "name": "stdout",
     "output_type": "stream",
     "text": [
      "(25304, 57)\n",
      "(0, 57)\n"
     ]
    }
   ],
   "source": [
    "#Checking the dimension of the dataset and checking for nan in the morphed dataset after changes\n",
    "print(mf_data_morphed.shape)\n",
    "percent_nan_list = [col+' : '+str(percent_nan(mf_data_morphed,col)) for col in column_missing_data] \n",
    "percent_nan_list\n",
    "\n",
    "#Why is this check needed?\n",
    "\n",
    "#Check if there are rows in 'total_net_assets' that are non-numeric\n",
    "mf_tna_non_numeric = mf_data_morphed[pd.to_numeric(mf_data_morphed['total_net_assets'], errors='coerce').isnull()]\n",
    "\n",
    "print(mf_tna_non_numeric.shape)\n",
    "\n",
    "#Using the function - calc_total_net_assets created above        \n",
    "mf_data_morphed['total_net_assets_adj'] = mf_data_morphed.apply(calc_total_net_assets, axis = 1)\n",
    "mf_data_morphed['currency'] = 'USD'\n",
    "\n",
    "##Task - Can you check if the conversion of INR to USD happened correctly for total_net_assets?"
   ]
  },
  {
   "cell_type": "code",
   "execution_count": 18,
   "metadata": {},
   "outputs": [],
   "source": [
    "##Task - Can you create a derived metrics to find how old the mutual fund is? Use inception_date"
   ]
  },
  {
   "cell_type": "code",
   "execution_count": 19,
   "metadata": {},
   "outputs": [],
   "source": [
    "#mf_data_morphed[['inception_date','mf_age']].head(4)\n",
    "#mf_data_morphed.dtypes"
   ]
  },
  {
   "cell_type": "code",
   "execution_count": 20,
   "metadata": {},
   "outputs": [],
   "source": [
    "mf_data_morphed['inception_date']= pd.to_datetime(mf_data_morphed['inception_date']).dt.date\n",
    "mf_data_morphed['mf_age'] = datetime.datetime.now().date() - mf_data_morphed['inception_date']\n",
    "\n",
    "#Since mf_age are in days, removing the keyword \"days\" from mf_age column\n",
    "mf_data_morphed['mf_age'] = mf_data_morphed['mf_age'].astype('str')\n",
    "mf_data_morphed['mf_age'] = mf_data_morphed['mf_age'].str.replace('days 00:00:00.000000000','')"
   ]
  },
  {
   "cell_type": "code",
   "execution_count": 21,
   "metadata": {},
   "outputs": [
    {
     "data": {
      "text/html": [
       "<div>\n",
       "<style scoped>\n",
       "    .dataframe tbody tr th:only-of-type {\n",
       "        vertical-align: middle;\n",
       "    }\n",
       "\n",
       "    .dataframe tbody tr th {\n",
       "        vertical-align: top;\n",
       "    }\n",
       "\n",
       "    .dataframe thead th {\n",
       "        text-align: right;\n",
       "    }\n",
       "</style>\n",
       "<table border=\"1\" class=\"dataframe\">\n",
       "  <thead>\n",
       "    <tr style=\"text-align: right;\">\n",
       "      <th></th>\n",
       "      <th>inception_date</th>\n",
       "      <th>mf_age</th>\n",
       "    </tr>\n",
       "  </thead>\n",
       "  <tbody>\n",
       "    <tr>\n",
       "      <td>0</td>\n",
       "      <td>2007-07-29</td>\n",
       "      <td>4767</td>\n",
       "    </tr>\n",
       "    <tr>\n",
       "      <td>1</td>\n",
       "      <td>2011-12-29</td>\n",
       "      <td>3153</td>\n",
       "    </tr>\n",
       "    <tr>\n",
       "      <td>2</td>\n",
       "      <td>1999-10-28</td>\n",
       "      <td>7598</td>\n",
       "    </tr>\n",
       "    <tr>\n",
       "      <td>3</td>\n",
       "      <td>2012-01-30</td>\n",
       "      <td>3121</td>\n",
       "    </tr>\n",
       "  </tbody>\n",
       "</table>\n",
       "</div>"
      ],
      "text/plain": [
       "  inception_date mf_age\n",
       "0     2007-07-29  4767 \n",
       "1     2011-12-29  3153 \n",
       "2     1999-10-28  7598 \n",
       "3     2012-01-30  3121 "
      ]
     },
     "execution_count": 21,
     "metadata": {},
     "output_type": "execute_result"
    }
   ],
   "source": [
    "mf_data_morphed[['inception_date','mf_age']].head(4)"
   ]
  },
  {
   "cell_type": "code",
   "execution_count": 22,
   "metadata": {},
   "outputs": [
    {
     "name": "stdout",
     "output_type": "stream",
     "text": [
      "(25304, 59)\n"
     ]
    },
    {
     "data": {
      "text/plain": [
       "['mf_age : 0.0']"
      ]
     },
     "execution_count": 22,
     "metadata": {},
     "output_type": "execute_result"
    }
   ],
   "source": [
    "#Dataset re-validation\n",
    "print(mf_data_morphed.shape)\n",
    "column_missing_data = ['mf_age']\n",
    "percent_nan_list = [col+' : '+str(percent_nan(mf_data_morphed,col)) for col in column_missing_data] \n",
    "percent_nan_list"
   ]
  },
  {
   "cell_type": "code",
   "execution_count": 23,
   "metadata": {},
   "outputs": [],
   "source": [
    "#Calculating average 3 years return\n",
    "mf_data_morphed['avg_return_3_years'] = (mf_data_morphed['returns_ytd'] + mf_data_morphed['returns_2017'] + mf_data_morphed['returns_2016'])/3"
   ]
  },
  {
   "cell_type": "code",
   "execution_count": 24,
   "metadata": {},
   "outputs": [
    {
     "data": {
      "text/html": [
       "<div>\n",
       "<style scoped>\n",
       "    .dataframe tbody tr th:only-of-type {\n",
       "        vertical-align: middle;\n",
       "    }\n",
       "\n",
       "    .dataframe tbody tr th {\n",
       "        vertical-align: top;\n",
       "    }\n",
       "\n",
       "    .dataframe thead th {\n",
       "        text-align: right;\n",
       "    }\n",
       "</style>\n",
       "<table border=\"1\" class=\"dataframe\">\n",
       "  <thead>\n",
       "    <tr style=\"text-align: right;\">\n",
       "      <th></th>\n",
       "      <th>fund_name</th>\n",
       "      <th>fund_family</th>\n",
       "      <th>returns_ytd</th>\n",
       "      <th>returns_2017</th>\n",
       "      <th>returns_2016</th>\n",
       "      <th>avg_return_3_years</th>\n",
       "    </tr>\n",
       "  </thead>\n",
       "  <tbody>\n",
       "    <tr>\n",
       "      <td>0</td>\n",
       "      <td>Deutsche Real Assets A</td>\n",
       "      <td>Deutsche Asset Management</td>\n",
       "      <td>1.15</td>\n",
       "      <td>14.67</td>\n",
       "      <td>4.01</td>\n",
       "      <td>6.61</td>\n",
       "    </tr>\n",
       "    <tr>\n",
       "      <td>1</td>\n",
       "      <td>Aberdeen Income Builder A</td>\n",
       "      <td>Aberdeen</td>\n",
       "      <td>-1.16</td>\n",
       "      <td>17.05</td>\n",
       "      <td>11.26</td>\n",
       "      <td>9.05</td>\n",
       "    </tr>\n",
       "    <tr>\n",
       "      <td>2</td>\n",
       "      <td>Thrivent Large Cap Growth A</td>\n",
       "      <td>Thrivent</td>\n",
       "      <td>11.04</td>\n",
       "      <td>27.70</td>\n",
       "      <td>-2.26</td>\n",
       "      <td>12.16</td>\n",
       "    </tr>\n",
       "    <tr>\n",
       "      <td>3</td>\n",
       "      <td>Horizon Active Asset Allocation Investor</td>\n",
       "      <td>Horizon Investments</td>\n",
       "      <td>2.59</td>\n",
       "      <td>22.25</td>\n",
       "      <td>4.56</td>\n",
       "      <td>9.80</td>\n",
       "    </tr>\n",
       "    <tr>\n",
       "      <td>4</td>\n",
       "      <td>Deutsche Real Assets C</td>\n",
       "      <td>Deutsche Asset Management</td>\n",
       "      <td>0.95</td>\n",
       "      <td>13.69</td>\n",
       "      <td>3.24</td>\n",
       "      <td>5.96</td>\n",
       "    </tr>\n",
       "  </tbody>\n",
       "</table>\n",
       "</div>"
      ],
      "text/plain": [
       "                                  fund_name                fund_family  \\\n",
       "0                    Deutsche Real Assets A  Deutsche Asset Management   \n",
       "1                 Aberdeen Income Builder A                   Aberdeen   \n",
       "2               Thrivent Large Cap Growth A                   Thrivent   \n",
       "3  Horizon Active Asset Allocation Investor        Horizon Investments   \n",
       "4                    Deutsche Real Assets C  Deutsche Asset Management   \n",
       "\n",
       "   returns_ytd  returns_2017  returns_2016  avg_return_3_years  \n",
       "0         1.15         14.67          4.01                6.61  \n",
       "1        -1.16         17.05         11.26                9.05  \n",
       "2        11.04         27.70         -2.26               12.16  \n",
       "3         2.59         22.25          4.56                9.80  \n",
       "4         0.95         13.69          3.24                5.96  "
      ]
     },
     "execution_count": 24,
     "metadata": {},
     "output_type": "execute_result"
    }
   ],
   "source": [
    "#mf_data_morphed[['fund_name','fund_family','returns_ytd','returns_2017','returns_2016']].head()\n",
    "mf_data_morphed[['fund_name','fund_family','returns_ytd','returns_2017','returns_2016','avg_return_3_years']].head()"
   ]
  },
  {
   "cell_type": "code",
   "execution_count": 25,
   "metadata": {},
   "outputs": [
    {
     "data": {
      "text/html": [
       "<div>\n",
       "<style scoped>\n",
       "    .dataframe tbody tr th:only-of-type {\n",
       "        vertical-align: middle;\n",
       "    }\n",
       "\n",
       "    .dataframe tbody tr th {\n",
       "        vertical-align: top;\n",
       "    }\n",
       "\n",
       "    .dataframe thead th {\n",
       "        text-align: right;\n",
       "    }\n",
       "</style>\n",
       "<table border=\"1\" class=\"dataframe\">\n",
       "  <thead>\n",
       "    <tr style=\"text-align: right;\">\n",
       "      <th></th>\n",
       "      <th>fund_name</th>\n",
       "    </tr>\n",
       "    <tr>\n",
       "      <th>fund_family</th>\n",
       "      <th></th>\n",
       "    </tr>\n",
       "  </thead>\n",
       "  <tbody>\n",
       "    <tr>\n",
       "      <td>13D Activist Fund</td>\n",
       "      <td>2</td>\n",
       "    </tr>\n",
       "    <tr>\n",
       "      <td>1919 Funds</td>\n",
       "      <td>8</td>\n",
       "    </tr>\n",
       "    <tr>\n",
       "      <td>361 Funds</td>\n",
       "      <td>13</td>\n",
       "    </tr>\n",
       "    <tr>\n",
       "      <td>AAAMCO</td>\n",
       "      <td>2</td>\n",
       "    </tr>\n",
       "    <tr>\n",
       "      <td>AAM</td>\n",
       "      <td>11</td>\n",
       "    </tr>\n",
       "    <tr>\n",
       "      <td>...</td>\n",
       "      <td>...</td>\n",
       "    </tr>\n",
       "    <tr>\n",
       "      <td>Zacks Funds</td>\n",
       "      <td>6</td>\n",
       "    </tr>\n",
       "    <tr>\n",
       "      <td>Zeo</td>\n",
       "      <td>1</td>\n",
       "    </tr>\n",
       "    <tr>\n",
       "      <td>Zevenbergen Capital Investments</td>\n",
       "      <td>4</td>\n",
       "    </tr>\n",
       "    <tr>\n",
       "      <td>Ziegler</td>\n",
       "      <td>3</td>\n",
       "    </tr>\n",
       "    <tr>\n",
       "      <td>bp capital</td>\n",
       "      <td>4</td>\n",
       "    </tr>\n",
       "  </tbody>\n",
       "</table>\n",
       "<p>760 rows × 1 columns</p>\n",
       "</div>"
      ],
      "text/plain": [
       "                                 fund_name\n",
       "fund_family                               \n",
       "13D Activist Fund                        2\n",
       "1919 Funds                               8\n",
       "361 Funds                               13\n",
       "AAAMCO                                   2\n",
       "AAM                                     11\n",
       "...                                    ...\n",
       "Zacks Funds                              6\n",
       "Zeo                                      1\n",
       "Zevenbergen Capital Investments          4\n",
       "Ziegler                                  3\n",
       "bp capital                               4\n",
       "\n",
       "[760 rows x 1 columns]"
      ]
     },
     "execution_count": 25,
     "metadata": {},
     "output_type": "execute_result"
    }
   ],
   "source": [
    "#After doing most of the data cleaning activity, let's try some exploratory data analysis\n",
    "#Find the number of funds in one fund family\n",
    "mf_data_morphed[['fund_family','fund_name']].groupby('fund_family').count()"
   ]
  },
  {
   "cell_type": "code",
   "execution_count": 26,
   "metadata": {},
   "outputs": [],
   "source": [
    "#Filter the fund data based on one fund family only for simple analysis - Wells Fargo Funds\n",
    "mf_data_subset = mf_data_morphed[mf_data_morphed['fund_family'] == 'Wells Fargo Funds']"
   ]
  },
  {
   "cell_type": "code",
   "execution_count": 27,
   "metadata": {},
   "outputs": [
    {
     "data": {
      "text/html": [
       "<div>\n",
       "<style scoped>\n",
       "    .dataframe tbody tr th:only-of-type {\n",
       "        vertical-align: middle;\n",
       "    }\n",
       "\n",
       "    .dataframe tbody tr th {\n",
       "        vertical-align: top;\n",
       "    }\n",
       "\n",
       "    .dataframe thead th {\n",
       "        text-align: right;\n",
       "    }\n",
       "</style>\n",
       "<table border=\"1\" class=\"dataframe\">\n",
       "  <thead>\n",
       "    <tr style=\"text-align: right;\">\n",
       "      <th></th>\n",
       "      <th>fund_name</th>\n",
       "      <th>fund_family</th>\n",
       "      <th>investment</th>\n",
       "      <th>size</th>\n",
       "      <th>total_net_assets</th>\n",
       "      <th>currency</th>\n",
       "      <th>conversion_rate</th>\n",
       "      <th>net_annual_expenses</th>\n",
       "      <th>morningstar_rating</th>\n",
       "      <th>inception_date</th>\n",
       "      <th>...</th>\n",
       "      <th>alpha_3y</th>\n",
       "      <th>beta_3y</th>\n",
       "      <th>mean_annual_return_3y</th>\n",
       "      <th>standard_deviation_3y</th>\n",
       "      <th>sharpe_ratio_3y</th>\n",
       "      <th>treynor_ratio_3y</th>\n",
       "      <th>add_portfolio</th>\n",
       "      <th>total_net_assets_adj</th>\n",
       "      <th>mf_age</th>\n",
       "      <th>avg_return_3_years</th>\n",
       "    </tr>\n",
       "  </thead>\n",
       "  <tbody>\n",
       "    <tr>\n",
       "      <td>2950</td>\n",
       "      <td>Wells Fargo C&amp;B Large Cap Value A</td>\n",
       "      <td>Wells Fargo Funds</td>\n",
       "      <td>Value</td>\n",
       "      <td>large</td>\n",
       "      <td>35510000.0</td>\n",
       "      <td>USD</td>\n",
       "      <td>75.47</td>\n",
       "      <td>1.15</td>\n",
       "      <td>3</td>\n",
       "      <td>2004-07-25</td>\n",
       "      <td>...</td>\n",
       "      <td>-2.26</td>\n",
       "      <td>0.96</td>\n",
       "      <td>0.69</td>\n",
       "      <td>10.75</td>\n",
       "      <td>0.71</td>\n",
       "      <td>7.63</td>\n",
       "      <td>100.0</td>\n",
       "      <td>35510000.0</td>\n",
       "      <td>5866</td>\n",
       "      <td>10.143333</td>\n",
       "    </tr>\n",
       "    <tr>\n",
       "      <td>2951</td>\n",
       "      <td>Wells Fargo C&amp;B Large Cap Value C</td>\n",
       "      <td>Wells Fargo Funds</td>\n",
       "      <td>Value</td>\n",
       "      <td>large</td>\n",
       "      <td>35510000.0</td>\n",
       "      <td>USD</td>\n",
       "      <td>75.47</td>\n",
       "      <td>1.90</td>\n",
       "      <td>3</td>\n",
       "      <td>2004-07-25</td>\n",
       "      <td>...</td>\n",
       "      <td>-3.04</td>\n",
       "      <td>0.96</td>\n",
       "      <td>0.63</td>\n",
       "      <td>10.76</td>\n",
       "      <td>0.63</td>\n",
       "      <td>6.77</td>\n",
       "      <td>100.0</td>\n",
       "      <td>35510000.0</td>\n",
       "      <td>5866</td>\n",
       "      <td>9.443333</td>\n",
       "    </tr>\n",
       "    <tr>\n",
       "      <td>2952</td>\n",
       "      <td>Wells Fargo C&amp;B Large Cap Value R6</td>\n",
       "      <td>Wells Fargo Funds</td>\n",
       "      <td>Value</td>\n",
       "      <td>large</td>\n",
       "      <td>35510000.0</td>\n",
       "      <td>USD</td>\n",
       "      <td>75.47</td>\n",
       "      <td>0.70</td>\n",
       "      <td>4</td>\n",
       "      <td>2016-10-31</td>\n",
       "      <td>...</td>\n",
       "      <td>-1.82</td>\n",
       "      <td>0.96</td>\n",
       "      <td>0.73</td>\n",
       "      <td>10.75</td>\n",
       "      <td>0.75</td>\n",
       "      <td>8.12</td>\n",
       "      <td>100.0</td>\n",
       "      <td>35510000.0</td>\n",
       "      <td>1385</td>\n",
       "      <td>-1.106667</td>\n",
       "    </tr>\n",
       "    <tr>\n",
       "      <td>2969</td>\n",
       "      <td>Wells Fargo C&amp;B Large Cap Value Admin</td>\n",
       "      <td>Wells Fargo Funds</td>\n",
       "      <td>Value</td>\n",
       "      <td>large</td>\n",
       "      <td>35510000.0</td>\n",
       "      <td>USD</td>\n",
       "      <td>75.47</td>\n",
       "      <td>1.00</td>\n",
       "      <td>3</td>\n",
       "      <td>2004-07-25</td>\n",
       "      <td>...</td>\n",
       "      <td>-2.14</td>\n",
       "      <td>0.96</td>\n",
       "      <td>0.70</td>\n",
       "      <td>10.75</td>\n",
       "      <td>0.72</td>\n",
       "      <td>7.77</td>\n",
       "      <td>100.0</td>\n",
       "      <td>35510000.0</td>\n",
       "      <td>5866</td>\n",
       "      <td>10.263333</td>\n",
       "    </tr>\n",
       "    <tr>\n",
       "      <td>2971</td>\n",
       "      <td>Wells Fargo C&amp;B Large Cap Value Inst</td>\n",
       "      <td>Wells Fargo Funds</td>\n",
       "      <td>Value</td>\n",
       "      <td>large</td>\n",
       "      <td>35510000.0</td>\n",
       "      <td>USD</td>\n",
       "      <td>75.47</td>\n",
       "      <td>0.80</td>\n",
       "      <td>3</td>\n",
       "      <td>2004-07-25</td>\n",
       "      <td>...</td>\n",
       "      <td>-1.87</td>\n",
       "      <td>0.96</td>\n",
       "      <td>0.72</td>\n",
       "      <td>10.75</td>\n",
       "      <td>0.74</td>\n",
       "      <td>8.06</td>\n",
       "      <td>100.0</td>\n",
       "      <td>35510000.0</td>\n",
       "      <td>5866</td>\n",
       "      <td>10.473333</td>\n",
       "    </tr>\n",
       "  </tbody>\n",
       "</table>\n",
       "<p>5 rows × 60 columns</p>\n",
       "</div>"
      ],
      "text/plain": [
       "                                  fund_name        fund_family investment  \\\n",
       "2950      Wells Fargo C&B Large Cap Value A  Wells Fargo Funds      Value   \n",
       "2951      Wells Fargo C&B Large Cap Value C  Wells Fargo Funds      Value   \n",
       "2952     Wells Fargo C&B Large Cap Value R6  Wells Fargo Funds      Value   \n",
       "2969  Wells Fargo C&B Large Cap Value Admin  Wells Fargo Funds      Value   \n",
       "2971   Wells Fargo C&B Large Cap Value Inst  Wells Fargo Funds      Value   \n",
       "\n",
       "       size  total_net_assets currency  conversion_rate  net_annual_expenses  \\\n",
       "2950  large        35510000.0      USD            75.47                 1.15   \n",
       "2951  large        35510000.0      USD            75.47                 1.90   \n",
       "2952  large        35510000.0      USD            75.47                 0.70   \n",
       "2969  large        35510000.0      USD            75.47                 1.00   \n",
       "2971  large        35510000.0      USD            75.47                 0.80   \n",
       "\n",
       "      morningstar_rating inception_date  ...  alpha_3y  beta_3y  \\\n",
       "2950                   3     2004-07-25  ...     -2.26     0.96   \n",
       "2951                   3     2004-07-25  ...     -3.04     0.96   \n",
       "2952                   4     2016-10-31  ...     -1.82     0.96   \n",
       "2969                   3     2004-07-25  ...     -2.14     0.96   \n",
       "2971                   3     2004-07-25  ...     -1.87     0.96   \n",
       "\n",
       "      mean_annual_return_3y  standard_deviation_3y  sharpe_ratio_3y  \\\n",
       "2950                   0.69                  10.75             0.71   \n",
       "2951                   0.63                  10.76             0.63   \n",
       "2952                   0.73                  10.75             0.75   \n",
       "2969                   0.70                  10.75             0.72   \n",
       "2971                   0.72                  10.75             0.74   \n",
       "\n",
       "      treynor_ratio_3y  add_portfolio  total_net_assets_adj  mf_age  \\\n",
       "2950              7.63          100.0            35510000.0   5866    \n",
       "2951              6.77          100.0            35510000.0   5866    \n",
       "2952              8.12          100.0            35510000.0   1385    \n",
       "2969              7.77          100.0            35510000.0   5866    \n",
       "2971              8.06          100.0            35510000.0   5866    \n",
       "\n",
       "      avg_return_3_years  \n",
       "2950           10.143333  \n",
       "2951            9.443333  \n",
       "2952           -1.106667  \n",
       "2969           10.263333  \n",
       "2971           10.473333  \n",
       "\n",
       "[5 rows x 60 columns]"
      ]
     },
     "execution_count": 27,
     "metadata": {},
     "output_type": "execute_result"
    }
   ],
   "source": [
    "mf_data_subset.head()"
   ]
  },
  {
   "cell_type": "code",
   "execution_count": 28,
   "metadata": {},
   "outputs": [],
   "source": [
    "mf_data_subset.to_csv(\"Well_Fargo_Funds.csv\")"
   ]
  },
  {
   "cell_type": "code",
   "execution_count": 29,
   "metadata": {},
   "outputs": [],
   "source": [
    "#Data Visualization"
   ]
  },
  {
   "cell_type": "code",
   "execution_count": 30,
   "metadata": {},
   "outputs": [
    {
     "data": {
      "image/png": "[encoded data removed]",
      "text/plain": [
       "<Figure size 1080x432 with 2 Axes>"
      ]
     },
     "metadata": {
      "needs_background": "light"
     },
     "output_type": "display_data"
    }
   ],
   "source": [
    "#Count the number of records in each investment type and size\n",
    "plt.subplot(1,2,1)\n",
    "\n",
    "mf_data_subset['investment'].value_counts().plot(kind='bar', color = (0.2, 0.4, 0.6, 0.6))\n",
    "plt.xlabel(\"Investment Type\", labelpad=14)\n",
    "plt.ylabel(\"Count of MF\", labelpad=14)\n",
    "plt.title(\"Count of MF for each investment type\", y=1.02);\n",
    "\n",
    "plt.subplot(1,2,2)\n",
    "\n",
    "mf_data_subset['size'].value_counts().plot(kind='bar', figsize=(15, 6), color = (0.2, 0.4, 0.6, 0.6))\n",
    "plt.title(\"Count of MF for each MF size\", y=1.02);"
   ]
  },
  {
   "cell_type": "code",
   "execution_count": 31,
   "metadata": {},
   "outputs": [
    {
     "data": {
      "text/plain": [
       "Text(0.5, 1, 'morningstar_risk_rating')"
      ]
     },
     "execution_count": 31,
     "metadata": {},
     "output_type": "execute_result"
    },
    {
     "data": {
      "image/png": "[encoded data removed]",
      "text/plain": [
       "<Figure size 1080x432 with 3 Axes>"
      ]
     },
     "metadata": {
      "needs_background": "light"
     },
     "output_type": "display_data"
    }
   ],
   "source": [
    "plt.subplot(1,3,1)\n",
    "mf_data_subset['morningstar_rating'].value_counts().plot(kind='bar', color = (0.2, 0.4, 0.6, 0.6))\n",
    "plt.xlabel(\"morningstar_rating\", labelpad=14)\n",
    "plt.ylabel(\"Count of MF\", labelpad=14)\n",
    "plt.title(\"morningstar_rating\", y=1)\n",
    "\n",
    "\n",
    "plt.subplot(1,3,2)\n",
    "mf_data_subset['morningstar_return_rating'].value_counts().plot(kind='bar', color = (0.2, 0.4, 0.6, 0.6))\n",
    "plt.xlabel(\"morningstar_return_rating\", labelpad=14)\n",
    "plt.title(\"morningstar_return_rating\", y=1)\n",
    "\n",
    "\n",
    "plt.subplot(1,3,3)\n",
    "mf_data_subset['morningstar_risk_rating'].value_counts().plot(kind='bar', figsize=(15, 6), color = (0.2, 0.4, 0.6, 0.6))\n",
    "plt.xlabel(\"morningstar_risk_rating\", labelpad=14)\n",
    "plt.title(\"morningstar_risk_rating\", y=1)"
   ]
  },
  {
   "cell_type": "code",
   "execution_count": 32,
   "metadata": {},
   "outputs": [
    {
     "data": {
      "image/png": "[encoded data removed]",
      "text/plain": [
       "<Figure size 1440x360 with 3 Axes>"
      ]
     },
     "metadata": {
      "needs_background": "light"
     },
     "output_type": "display_data"
    }
   ],
   "source": [
    "fig1, ax1 = plt.subplots(1,3,figsize=(20, 5))\n",
    "\n",
    "data = mf_data_subset['total_net_assets_adj'][mf_data_subset['size'] == 'small']\n",
    "ax1[0].set_title('Total Net Asset - Small')\n",
    "ax1[0].boxplot(data)\n",
    "\n",
    "data = mf_data_subset['total_net_assets_adj'][mf_data_subset['size'] == 'medium']\n",
    "ax1[1].set_title('Total Net Asset - Medium')\n",
    "ax1[1].boxplot(data)\n",
    "\n",
    "data = mf_data_subset['total_net_assets_adj'][mf_data_subset['size'] == 'large']\n",
    "ax1[2].set_title('Total Net Asset - Large')\n",
    "ax1[2].boxplot(data)\n",
    "\n",
    "plt.show()"
   ]
  },
  {
   "cell_type": "code",
   "execution_count": 33,
   "metadata": {},
   "outputs": [
    {
     "data": {
      "text/plain": [
       "Text(0, 0.5, 'Frequency')"
      ]
     },
     "execution_count": 33,
     "metadata": {},
     "output_type": "execute_result"
    },
    {
     "data": {
      "image/png": "[encoded data removed]",
      "text/plain": [
       "<Figure size 432x288 with 1 Axes>"
      ]
     },
     "metadata": {
      "needs_background": "light"
     },
     "output_type": "display_data"
    }
   ],
   "source": [
    "data = mf_data_subset['mf_age']\n",
    "n, bins, patches = plt.hist(x=data, bins=20, color='#607c8e',\n",
    "                            alpha=0.7, rwidth=0.85)\n",
    "plt.grid(axis='y', alpha=0.75)\n",
    "plt.xlabel('MF Age')\n",
    "plt.ylabel('Frequency')"
   ]
  },
  {
   "cell_type": "code",
   "execution_count": 35,
   "metadata": {},
   "outputs": [
    {
     "data": {
      "text/plain": [
       "Text(0, 0.5, 'Frequency')"
      ]
     },
     "execution_count": 35,
     "metadata": {},
     "output_type": "execute_result"
    },
    {
     "data": {
      "image/png": "[encoded data removed]",
      "text/plain": [
       "<Figure size 432x288 with 1 Axes>"
      ]
     },
     "metadata": {
      "needs_background": "light"
     },
     "output_type": "display_data"
    }
   ],
   "source": [
    "data = mf_data_subset['avg_return_3_years']\n",
    "n, bins, patches = plt.hist(x=data, bins=20, color='#607c8e',\n",
    "                            alpha=0.7, rwidth=0.85)\n",
    "plt.grid(axis='y', alpha=0.75)\n",
    "plt.xlabel('Av. return 3 years')\n",
    "plt.ylabel('Frequency')"
   ]
  },
  {
   "cell_type": "code",
   "execution_count": 40,
   "metadata": {},
   "outputs": [
    {
     "data": {
      "text/html": [
       "<div>\n",
       "<style scoped>\n",
       "    .dataframe tbody tr th:only-of-type {\n",
       "        vertical-align: middle;\n",
       "    }\n",
       "\n",
       "    .dataframe tbody tr th {\n",
       "        vertical-align: top;\n",
       "    }\n",
       "\n",
       "    .dataframe thead th {\n",
       "        text-align: right;\n",
       "    }\n",
       "</style>\n",
       "<table border=\"1\" class=\"dataframe\">\n",
       "  <thead>\n",
       "    <tr style=\"text-align: right;\">\n",
       "      <th></th>\n",
       "      <th>fund_name</th>\n",
       "      <th>investment</th>\n",
       "      <th>size</th>\n",
       "      <th>beta_3y</th>\n",
       "    </tr>\n",
       "  </thead>\n",
       "  <tbody>\n",
       "    <tr>\n",
       "      <td>5665</td>\n",
       "      <td>Wells Fargo International Bond Inst</td>\n",
       "      <td>Growth</td>\n",
       "      <td>medium</td>\n",
       "      <td>1.97</td>\n",
       "    </tr>\n",
       "  </tbody>\n",
       "</table>\n",
       "</div>"
      ],
      "text/plain": [
       "                                fund_name investment    size  beta_3y\n",
       "5665  Wells Fargo International Bond Inst     Growth  medium     1.97"
      ]
     },
     "execution_count": 40,
     "metadata": {},
     "output_type": "execute_result"
    }
   ],
   "source": [
    "#Which fund is more prone to volatility\n",
    "mf_data_subset[['fund_name','investment','size','beta_3y']][mf_data_subset['beta_3y'] == max(mf_data_subset['beta_3y'])]"
   ]
  },
  {
   "cell_type": "code",
   "execution_count": 43,
   "metadata": {},
   "outputs": [
    {
     "name": "stdout",
     "output_type": "stream",
     "text": [
      "  investment    size  beta_3y_min  beta_3y_max\n",
      "0      Blend   large         0.00         1.50\n",
      "1      Blend  medium         0.71         1.08\n",
      "2      Blend   small         0.67         1.08\n",
      "3     Growth   large         0.43         1.29\n",
      "4     Growth  medium         0.50         1.97\n",
      "5     Growth   small         1.02         1.15\n",
      "6     Others  others         1.03         1.03\n",
      "7      Value   large         0.02         1.01\n",
      "8      Value  medium         0.02         0.91\n",
      "9      Value   small         0.11         1.04\n"
     ]
    }
   ],
   "source": [
    "#Finding the min and max volatility rate for each investment type and size\n",
    "\n",
    "beta_3y_group = mf_data_subset.groupby(['investment', 'size']).agg({'beta_3y': ['min', 'max']})\n",
    "beta_3y_group.columns = ['beta_3y_min', 'beta_3y_max']\n",
    "beta_3y_group = beta_3y_group.reset_index()\n",
    "print(beta_3y_group)"
   ]
  },
  {
   "cell_type": "code",
   "execution_count": 48,
   "metadata": {},
   "outputs": [
    {
     "data": {
      "text/html": [
       "<div>\n",
       "<style scoped>\n",
       "    .dataframe tbody tr th:only-of-type {\n",
       "        vertical-align: middle;\n",
       "    }\n",
       "\n",
       "    .dataframe tbody tr th {\n",
       "        vertical-align: top;\n",
       "    }\n",
       "\n",
       "    .dataframe thead th {\n",
       "        text-align: right;\n",
       "    }\n",
       "</style>\n",
       "<table border=\"1\" class=\"dataframe\">\n",
       "  <thead>\n",
       "    <tr style=\"text-align: right;\">\n",
       "      <th></th>\n",
       "      <th>fund_name</th>\n",
       "    </tr>\n",
       "  </thead>\n",
       "  <tbody>\n",
       "    <tr>\n",
       "      <td>21257</td>\n",
       "      <td>Wells Fargo California Tax-Free A</td>\n",
       "    </tr>\n",
       "    <tr>\n",
       "      <td>21258</td>\n",
       "      <td>Wells Fargo California Tax-Free C</td>\n",
       "    </tr>\n",
       "  </tbody>\n",
       "</table>\n",
       "</div>"
      ],
      "text/plain": [
       "                               fund_name\n",
       "21257  Wells Fargo California Tax-Free A\n",
       "21258  Wells Fargo California Tax-Free C"
      ]
     },
     "execution_count": 48,
     "metadata": {},
     "output_type": "execute_result"
    }
   ],
   "source": [
    "#Finding the fund names for each of the combinations obtained earlier\n",
    "\n",
    "#mf_data_subset[['fund_name']][(mf_data_subset['beta_3y'] == 0.00) & (mf_data_subset['investment'] == 'Blend') & (mf_data_subset['size'] == 'large')]\n",
    "#mf_data_subset[['fund_name']][(mf_data_subset['beta_3y'] == 1.50) & (mf_data_subset['investment'] == 'Blend') & (mf_data_subset['size'] == 'large')]\n",
    "#mf_data_subset[['fund_name']][(mf_data_subset['beta_3y'] == 0.71) & (mf_data_subset['investment'] == 'Blend') & (mf_data_subset['size'] == 'medium')]\n",
    "mf_data_subset[['fund_name']][(mf_data_subset['beta_3y'] == 1.08) & (mf_data_subset['investment'] == 'Blend') & (mf_data_subset['size'] == 'medium')]"
   ]
  },
  {
   "cell_type": "code",
   "execution_count": 49,
   "metadata": {},
   "outputs": [
    {
     "name": "stdout",
     "output_type": "stream",
     "text": [
      "  investment    size  alpha_3y_min  alpha_3y_max\n",
      "0      Blend   large         -5.55          3.22\n",
      "1      Blend  medium         -3.14          1.59\n",
      "2      Blend   small         -5.72          8.20\n",
      "3     Growth   large         -3.24         11.06\n",
      "4     Growth  medium         -2.85          5.77\n",
      "5     Growth   small         -2.97          0.50\n",
      "6     Others  others          0.83          0.83\n",
      "7      Value   large         -4.05          3.28\n",
      "8      Value  medium         -3.38          0.80\n",
      "9      Value   small         -0.10          2.36\n"
     ]
    }
   ],
   "source": [
    "#Finding which fund has the potential to give excess of returns to the customers\n",
    "alpha_3y_group = mf_data_subset.groupby(['investment', 'size']).agg({'alpha_3y': ['min', 'max']})\n",
    "alpha_3y_group.columns = ['alpha_3y_min', 'alpha_3y_max']\n",
    "alpha_3y_group = alpha_3y_group.reset_index()\n",
    "print(alpha_3y_group)"
   ]
  },
  {
   "cell_type": "code",
   "execution_count": 52,
   "metadata": {},
   "outputs": [
    {
     "data": {
      "text/html": [
       "<div>\n",
       "<style scoped>\n",
       "    .dataframe tbody tr th:only-of-type {\n",
       "        vertical-align: middle;\n",
       "    }\n",
       "\n",
       "    .dataframe tbody tr th {\n",
       "        vertical-align: top;\n",
       "    }\n",
       "\n",
       "    .dataframe thead th {\n",
       "        text-align: right;\n",
       "    }\n",
       "</style>\n",
       "<table border=\"1\" class=\"dataframe\">\n",
       "  <thead>\n",
       "    <tr style=\"text-align: right;\">\n",
       "      <th></th>\n",
       "      <th>fund_name</th>\n",
       "    </tr>\n",
       "  </thead>\n",
       "  <tbody>\n",
       "    <tr>\n",
       "      <td>25058</td>\n",
       "      <td>Wells Fargo Core Plus Bond Instl</td>\n",
       "    </tr>\n",
       "  </tbody>\n",
       "</table>\n",
       "</div>"
      ],
      "text/plain": [
       "                              fund_name\n",
       "25058  Wells Fargo Core Plus Bond Instl"
      ]
     },
     "execution_count": 52,
     "metadata": {},
     "output_type": "execute_result"
    }
   ],
   "source": [
    "#Finding the fund names for each of the combinations obtained earlier\n",
    "\n",
    "#mf_data_subset[['fund_name']][(mf_data_subset['alpha_3y'] == -5.55) & (mf_data_subset['investment'] == 'Blend') & (mf_data_subset['size'] == 'large')]\n",
    "#mf_data_subset[['fund_name']][(mf_data_subset['alpha_3y'] == 3.22) & (mf_data_subset['investment'] == 'Blend') & (mf_data_subset['size'] == 'large')]\n",
    "#mf_data_subset[['fund_name']][(mf_data_subset['alpha_3y'] == -3.14) & (mf_data_subset['investment'] == 'Blend') & (mf_data_subset['size'] == 'medium')]\n",
    "mf_data_subset[['fund_name']][(mf_data_subset['alpha_3y'] == 1.59) & (mf_data_subset['investment'] == 'Blend') & (mf_data_subset['size'] == 'medium')]"
   ]
  },
  {
   "cell_type": "code",
   "execution_count": 60,
   "metadata": {},
   "outputs": [
    {
     "data": {
      "text/html": [
       "<div>\n",
       "<style scoped>\n",
       "    .dataframe tbody tr th:only-of-type {\n",
       "        vertical-align: middle;\n",
       "    }\n",
       "\n",
       "    .dataframe tbody tr th {\n",
       "        vertical-align: top;\n",
       "    }\n",
       "\n",
       "    .dataframe thead th {\n",
       "        text-align: right;\n",
       "    }\n",
       "</style>\n",
       "<table border=\"1\" class=\"dataframe\">\n",
       "  <thead>\n",
       "    <tr style=\"text-align: right;\">\n",
       "      <th></th>\n",
       "      <th>fund_name</th>\n",
       "      <th>Portfolio</th>\n",
       "      <th>values</th>\n",
       "    </tr>\n",
       "  </thead>\n",
       "  <tbody>\n",
       "    <tr>\n",
       "      <td>2</td>\n",
       "      <td>Wells Fargo Core Plus Bond Instl</td>\n",
       "      <td>portfolio_bonds</td>\n",
       "      <td>85.58</td>\n",
       "    </tr>\n",
       "    <tr>\n",
       "      <td>0</td>\n",
       "      <td>Wells Fargo Core Plus Bond Instl</td>\n",
       "      <td>portfolio_cash</td>\n",
       "      <td>10.42</td>\n",
       "    </tr>\n",
       "    <tr>\n",
       "      <td>3</td>\n",
       "      <td>Wells Fargo Core Plus Bond Instl</td>\n",
       "      <td>portfolio_others</td>\n",
       "      <td>3.82</td>\n",
       "    </tr>\n",
       "    <tr>\n",
       "      <td>4</td>\n",
       "      <td>Wells Fargo Core Plus Bond Instl</td>\n",
       "      <td>portfolio_preferred</td>\n",
       "      <td>0.18</td>\n",
       "    </tr>\n",
       "    <tr>\n",
       "      <td>1</td>\n",
       "      <td>Wells Fargo Core Plus Bond Instl</td>\n",
       "      <td>portfolio_stocks</td>\n",
       "      <td>0.00</td>\n",
       "    </tr>\n",
       "    <tr>\n",
       "      <td>5</td>\n",
       "      <td>Wells Fargo Core Plus Bond Instl</td>\n",
       "      <td>portfolio_convertible</td>\n",
       "      <td>0.00</td>\n",
       "    </tr>\n",
       "  </tbody>\n",
       "</table>\n",
       "</div>"
      ],
      "text/plain": [
       "                          fund_name              Portfolio  values\n",
       "2  Wells Fargo Core Plus Bond Instl        portfolio_bonds   85.58\n",
       "0  Wells Fargo Core Plus Bond Instl         portfolio_cash   10.42\n",
       "3  Wells Fargo Core Plus Bond Instl       portfolio_others    3.82\n",
       "4  Wells Fargo Core Plus Bond Instl    portfolio_preferred    0.18\n",
       "1  Wells Fargo Core Plus Bond Instl       portfolio_stocks    0.00\n",
       "5  Wells Fargo Core Plus Bond Instl  portfolio_convertible    0.00"
      ]
     },
     "execution_count": 60,
     "metadata": {},
     "output_type": "execute_result"
    }
   ],
   "source": [
    "#Finding portfolio wise investment for a particular mutual fund\n",
    "mf_data_subset_portfolio = mf_data_subset[['fund_name','portfolio_cash','portfolio_stocks','portfolio_bonds','portfolio_others','portfolio_preferred','portfolio_convertible']][(mf_data_subset['alpha_3y'] == 1.59) & (mf_data_subset['investment'] == 'Blend') & (mf_data_subset['size'] == 'medium')]\n",
    "\n",
    "mf_data_subset_portfolio_long=pd.melt(mf_data_subset_portfolio,id_vars=['fund_name'],var_name='Portfolio', value_name='values')\n",
    "mf_data_subset_portfolio_long.sort_values(by=['fund_name','values'], inplace=True,ascending=False)\n",
    "\n",
    "mf_data_subset_portfolio_long"
   ]
  },
  {
   "cell_type": "code",
   "execution_count": 66,
   "metadata": {},
   "outputs": [
    {
     "data": {
      "text/html": [
       "<div>\n",
       "<style scoped>\n",
       "    .dataframe tbody tr th:only-of-type {\n",
       "        vertical-align: middle;\n",
       "    }\n",
       "\n",
       "    .dataframe tbody tr th {\n",
       "        vertical-align: top;\n",
       "    }\n",
       "\n",
       "    .dataframe thead th {\n",
       "        text-align: right;\n",
       "    }\n",
       "</style>\n",
       "<table border=\"1\" class=\"dataframe\">\n",
       "  <thead>\n",
       "    <tr style=\"text-align: right;\">\n",
       "      <th></th>\n",
       "      <th>fund_name</th>\n",
       "      <th>Sector</th>\n",
       "      <th>values</th>\n",
       "    </tr>\n",
       "  </thead>\n",
       "  <tbody>\n",
       "    <tr>\n",
       "      <td>2</td>\n",
       "      <td>Wells Fargo C&amp;B Large Cap Value A</td>\n",
       "      <td>sectors_financial_services</td>\n",
       "      <td>28.51</td>\n",
       "    </tr>\n",
       "    <tr>\n",
       "      <td>1</td>\n",
       "      <td>Wells Fargo C&amp;B Large Cap Value A</td>\n",
       "      <td>sectors_consumer_cyclical</td>\n",
       "      <td>19.25</td>\n",
       "    </tr>\n",
       "    <tr>\n",
       "      <td>9</td>\n",
       "      <td>Wells Fargo C&amp;B Large Cap Value A</td>\n",
       "      <td>sectors_industrials</td>\n",
       "      <td>15.10</td>\n",
       "    </tr>\n",
       "    <tr>\n",
       "      <td>5</td>\n",
       "      <td>Wells Fargo C&amp;B Large Cap Value A</td>\n",
       "      <td>sectors_healthcare</td>\n",
       "      <td>14.37</td>\n",
       "    </tr>\n",
       "    <tr>\n",
       "      <td>10</td>\n",
       "      <td>Wells Fargo C&amp;B Large Cap Value A</td>\n",
       "      <td>sectors_technology</td>\n",
       "      <td>7.54</td>\n",
       "    </tr>\n",
       "    <tr>\n",
       "      <td>8</td>\n",
       "      <td>Wells Fargo C&amp;B Large Cap Value A</td>\n",
       "      <td>sectors_energy</td>\n",
       "      <td>5.02</td>\n",
       "    </tr>\n",
       "    <tr>\n",
       "      <td>4</td>\n",
       "      <td>Wells Fargo C&amp;B Large Cap Value A</td>\n",
       "      <td>sectors_consumer_defensive</td>\n",
       "      <td>4.42</td>\n",
       "    </tr>\n",
       "    <tr>\n",
       "      <td>7</td>\n",
       "      <td>Wells Fargo C&amp;B Large Cap Value A</td>\n",
       "      <td>sectors_communication_services</td>\n",
       "      <td>3.09</td>\n",
       "    </tr>\n",
       "    <tr>\n",
       "      <td>3</td>\n",
       "      <td>Wells Fargo C&amp;B Large Cap Value A</td>\n",
       "      <td>sectors_real_estate</td>\n",
       "      <td>1.67</td>\n",
       "    </tr>\n",
       "    <tr>\n",
       "      <td>0</td>\n",
       "      <td>Wells Fargo C&amp;B Large Cap Value A</td>\n",
       "      <td>sectors_basic_materials</td>\n",
       "      <td>1.04</td>\n",
       "    </tr>\n",
       "    <tr>\n",
       "      <td>6</td>\n",
       "      <td>Wells Fargo C&amp;B Large Cap Value A</td>\n",
       "      <td>sectors_utilities</td>\n",
       "      <td>0.00</td>\n",
       "    </tr>\n",
       "  </tbody>\n",
       "</table>\n",
       "</div>"
      ],
      "text/plain": [
       "                            fund_name                          Sector  values\n",
       "2   Wells Fargo C&B Large Cap Value A      sectors_financial_services   28.51\n",
       "1   Wells Fargo C&B Large Cap Value A       sectors_consumer_cyclical   19.25\n",
       "9   Wells Fargo C&B Large Cap Value A             sectors_industrials   15.10\n",
       "5   Wells Fargo C&B Large Cap Value A              sectors_healthcare   14.37\n",
       "10  Wells Fargo C&B Large Cap Value A              sectors_technology    7.54\n",
       "8   Wells Fargo C&B Large Cap Value A                  sectors_energy    5.02\n",
       "4   Wells Fargo C&B Large Cap Value A      sectors_consumer_defensive    4.42\n",
       "7   Wells Fargo C&B Large Cap Value A  sectors_communication_services    3.09\n",
       "3   Wells Fargo C&B Large Cap Value A             sectors_real_estate    1.67\n",
       "0   Wells Fargo C&B Large Cap Value A         sectors_basic_materials    1.04\n",
       "6   Wells Fargo C&B Large Cap Value A               sectors_utilities    0.00"
      ]
     },
     "execution_count": 66,
     "metadata": {},
     "output_type": "execute_result"
    }
   ],
   "source": [
    "#Finding sector wise investment for a particular mutual fund\n",
    "mf_data_subset_sector = mf_data_subset[['fund_name','sectors_basic_materials','sectors_consumer_cyclical','sectors_financial_services','sectors_real_estate','sectors_consumer_defensive','sectors_healthcare','sectors_utilities','sectors_communication_services','sectors_energy','sectors_industrials','sectors_technology']][(mf_data_subset['alpha_3y'] == -2.26) & (mf_data_subset['investment'] == 'Value') & (mf_data_subset['size'] == 'large')]\n",
    "\n",
    "mf_data_subset_sector_long=pd.melt(mf_data_subset_sector,id_vars=['fund_name'],var_name='Sector', value_name='values')\n",
    "mf_data_subset_sector_long.sort_values(by=['fund_name','values'], inplace=True,ascending=False)\n",
    "\n",
    "mf_data_subset_sector_long"
   ]
  }
 ],
 "metadata": {
  "anaconda-cloud": {},
  "kernelspec": {
   "display_name": "Python 3",
   "language": "python",
   "name": "python3"
  },
  "language_info": {
   "codemirror_mode": {
    "name": "ipython",
    "version": 3
   },
   "file_extension": ".py",
   "mimetype": "text/x-python",
   "name": "python",
   "nbconvert_exporter": "python",
   "pygments_lexer": "ipython3",
   "version": "3.7.4"
  }
 },
 "nbformat": 4,
 "nbformat_minor": 1
}
